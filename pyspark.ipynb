{
  "cells": [
    {
      "cell_type": "code",
      "execution_count": 1,
      "metadata": {
        "id": "tkLr2wRz_vV0"
      },
      "outputs": [],
      "source": [
        "\n",
        "# import SparkSession\n",
        "from pyspark.sql import SparkSession\n",
        "import zipfile\n",
        "import os"
      ]
    },
    {
      "cell_type": "code",
      "execution_count": 2,
      "metadata": {
        "id": "p-oajChnAHs7"
      },
      "outputs": [
        {
          "name": "stdout",
          "output_type": "stream",
          "text": [
            "22/11/03 15:41:18 WARN Utils: Your hostname, MacBook-Pro-de-Jhon.local resolves to a loopback address: 127.0.0.1; using 192.168.1.1 instead (on interface en0)\n",
            "22/11/03 15:41:18 WARN Utils: Set SPARK_LOCAL_IP if you need to bind to another address\n"
          ]
        },
        {
          "name": "stderr",
          "output_type": "stream",
          "text": [
            "Setting default log level to \"WARN\".\n",
            "To adjust logging level use sc.setLogLevel(newLevel). For SparkR, use setLogLevel(newLevel).\n"
          ]
        },
        {
          "name": "stdout",
          "output_type": "stream",
          "text": [
            "22/11/03 15:41:19 WARN NativeCodeLoader: Unable to load native-hadoop library for your platform... using builtin-java classes where applicable\n"
          ]
        }
      ],
      "source": [
        "spark = SparkSession.builder\\\n",
        "          .master(\"local[10]\")\\\n",
        "          .appName(\"Colab\")\\\n",
        "          .config('spark.ui.port','4050')\\\n",
        "          .getOrCreate()"
      ]
    },
    {
      "cell_type": "code",
      "execution_count": 4,
      "metadata": {
        "colab": {
          "base_uri": "https://localhost:8080/"
        },
        "id": "By1UuRJmQMXC",
        "outputId": "f2da0275-e073-413f-8662-3315519d2837"
      },
      "outputs": [
        {
          "name": "stdout",
          "output_type": "stream",
          "text": [
            "/Users/sebastian/ApacheSpark/ipynb\n"
          ]
        }
      ],
      "source": [
        "!pwd"
      ]
    },
    {
      "cell_type": "code",
      "execution_count": 3,
      "metadata": {
        "colab": {
          "base_uri": "https://localhost:8080/"
        },
        "id": "_sgTrPHwAqML",
        "outputId": "254d056f-149c-4543-c2f0-702fcb89fc5c"
      },
      "outputs": [
        {
          "name": "stdout",
          "output_type": "stream",
          "text": [
            "mkdir: /Users/sebastian/.kaggle: File exists\n"
          ]
        }
      ],
      "source": [
        "!mkdir ~/.kaggle"
      ]
    },
    {
      "cell_type": "code",
      "execution_count": 4,
      "metadata": {
        "id": "GG8I-e1OBI1A"
      },
      "outputs": [],
      "source": [
        "!cp kaggle.json ~/.kaggle/"
      ]
    },
    {
      "cell_type": "code",
      "execution_count": 5,
      "metadata": {
        "id": "qq43DmjxBQN-"
      },
      "outputs": [],
      "source": [
        "!chmod 600 ~/.kaggle/kaggle.json"
      ]
    },
    {
      "cell_type": "code",
      "execution_count": 9,
      "metadata": {
        "colab": {
          "base_uri": "https://localhost:8080/"
        },
        "id": "Kjc1ThpLBhcN",
        "outputId": "4252d020-6b52-44fe-d552-33477667e12f"
      },
      "outputs": [
        {
          "name": "stdout",
          "output_type": "stream",
          "text": [
            "ecommerce-events-history-in-cosmetics-shop.zip: Skipping, found more recently modified local copy (use --force to force download)\n"
          ]
        }
      ],
      "source": [
        "!kaggle datasets download mkechinov/ecommerce-events-history-in-cosmetics-shop"
      ]
    },
    {
      "cell_type": "code",
      "execution_count": 10,
      "metadata": {
        "colab": {
          "base_uri": "https://localhost:8080/"
        },
        "id": "FfvI8OgkCNhy",
        "outputId": "d78def3d-9b75-4e3f-8019-a2536bfd5914"
      },
      "outputs": [
        {
          "name": "stdout",
          "output_type": "stream",
          "text": [
            "2020-Jan.csv\n",
            "2019-Dec.csv\n",
            ".DS_Store\n",
            "kaggle.json\n",
            "ecommerce-events-history-in-cosmetics-shop.zip\n",
            "2020-Feb.csv\n",
            "2019-Nov.csv\n",
            ".ipynb_checkpoints\n",
            "pyspark.ipynb\n",
            "2019-Oct.csv\n"
          ]
        }
      ],
      "source": [
        "for file in os.listdir():\n",
        "  print(file)\n",
        "  if file.endswith('.zip'):\n",
        "    zip_ref = zipfile.ZipFile(file,'r')\n",
        "    zip_ref.extractall()\n",
        "    zip_ref.close()"
      ]
    },
    {
      "cell_type": "code",
      "execution_count": 3,
      "metadata": {
        "id": "Eikp7x54Du6D"
      },
      "outputs": [
        {
          "name": "stderr",
          "output_type": "stream",
          "text": [
            "                                                                                \r"
          ]
        }
      ],
      "source": [
        "df= spark.read.options(header='True',inferScheme='True').csv('*.csv')"
      ]
    },
    {
      "cell_type": "code",
      "execution_count": 8,
      "metadata": {
        "colab": {
          "base_uri": "https://localhost:8080/"
        },
        "id": "jGU3yqtqEA1O",
        "outputId": "dce33c94-8e8e-4312-fd57-f9e570f0325b"
      },
      "outputs": [
        {
          "name": "stderr",
          "output_type": "stream",
          "text": [
            "                                                                                \r"
          ]
        },
        {
          "data": {
            "text/plain": [
              "20692840"
            ]
          },
          "execution_count": 8,
          "metadata": {},
          "output_type": "execute_result"
        }
      ],
      "source": [
        "df.count()"
      ]
    },
    {
      "cell_type": "code",
      "execution_count": 13,
      "metadata": {
        "colab": {
          "base_uri": "https://localhost:8080/"
        },
        "id": "76fx1aibRZ4d",
        "outputId": "c965a31b-c895-4bb4-c202-45839cdf5ae5"
      },
      "outputs": [
        {
          "name": "stdout",
          "output_type": "stream",
          "text": [
            "root\n",
            " |-- event_time: string (nullable = true)\n",
            " |-- event_type: string (nullable = true)\n",
            " |-- product_id: string (nullable = true)\n",
            " |-- category_id: string (nullable = true)\n",
            " |-- category_code: string (nullable = true)\n",
            " |-- brand: string (nullable = true)\n",
            " |-- price: string (nullable = true)\n",
            " |-- user_id: string (nullable = true)\n",
            " |-- user_session: string (nullable = true)\n",
            "\n"
          ]
        }
      ],
      "source": [
        "df.printSchema()"
      ]
    },
    {
      "cell_type": "code",
      "execution_count": 10,
      "metadata": {
        "colab": {
          "base_uri": "https://localhost:8080/"
        },
        "id": "psUid9VFRd9q",
        "outputId": "3e171c7e-f4e5-472f-ce23-7e551a3ba8fc"
      },
      "outputs": [
        {
          "name": "stderr",
          "output_type": "stream",
          "text": [
            "[Stage 10:===============================================>        (16 + 3) / 19]\r"
          ]
        },
        {
          "name": "stdout",
          "output_type": "stream",
          "text": [
            "+----------------+\n",
            "|      event_type|\n",
            "+----------------+\n",
            "|        purchase|\n",
            "|            view|\n",
            "|            cart|\n",
            "|remove_from_cart|\n",
            "+----------------+\n",
            "\n"
          ]
        },
        {
          "name": "stderr",
          "output_type": "stream",
          "text": [
            "                                                                                \r"
          ]
        }
      ],
      "source": [
        "df.select(\"event_type\").distinct().show()"
      ]
    },
    {
      "cell_type": "code",
      "execution_count": 11,
      "metadata": {
        "colab": {
          "base_uri": "https://localhost:8080/"
        },
        "id": "DNe1OtnHVtwK",
        "outputId": "e9747a37-30ce-434f-9448-fd33d493fc00"
      },
      "outputs": [
        {
          "name": "stderr",
          "output_type": "stream",
          "text": [
            "[Stage 13:===============================================>        (16 + 3) / 19]\r"
          ]
        },
        {
          "name": "stdout",
          "output_type": "stream",
          "text": [
            "+------------+\n",
            "|       brand|\n",
            "+------------+\n",
            "|     beautix|\n",
            "|     farmona|\n",
            "|  dr.gloderm|\n",
            "|   profhenna|\n",
            "|     philips|\n",
            "|invisibobble|\n",
            "|       riche|\n",
            "|        oniq|\n",
            "|    lebelage|\n",
            "|     vilenta|\n",
            "|       fancy|\n",
            "|      jaguar|\n",
            "|      tertio|\n",
            "|    siberina|\n",
            "|   koreatida|\n",
            "|         jas|\n",
            "|rocknailstar|\n",
            "|   depilflax|\n",
            "|protokeratin|\n",
            "|       essie|\n",
            "+------------+\n",
            "only showing top 20 rows\n",
            "\n"
          ]
        },
        {
          "name": "stderr",
          "output_type": "stream",
          "text": [
            "                                                                                \r"
          ]
        }
      ],
      "source": [
        "df.select(\"brand\").distinct().show()"
      ]
    },
    {
      "cell_type": "markdown",
      "metadata": {},
      "source": [
        "SQL"
      ]
    },
    {
      "cell_type": "code",
      "execution_count": 9,
      "metadata": {},
      "outputs": [
        {
          "name": "stdout",
          "output_type": "stream",
          "text": [
            "+--------------------+----------------+----------+-------------------+-------------+------+-----+---------+--------------------+\n",
            "|          event_time|      event_type|product_id|        category_id|category_code| brand|price|  user_id|        user_session|\n",
            "+--------------------+----------------+----------+-------------------+-------------+------+-----+---------+--------------------+\n",
            "|2019-12-01 00:00:...|remove_from_cart|   5712790|1487580005268456287|         null| f.o.x| 6.27|576802932|51d85cb0-897f-48d...|\n",
            "|2019-12-01 00:00:...|            view|   5764655|1487580005411062629|         null|   cnd|29.05|412120092|8adff31e-2051-489...|\n",
            "|2019-12-01 00:00:...|            cart|      4958|1487580009471148064|         null|runail| 1.19|494077766|c99a50e8-2fac-4c4...|\n",
            "+--------------------+----------------+----------+-------------------+-------------+------+-----+---------+--------------------+\n",
            "\n"
          ]
        },
        {
          "ename": "AttributeError",
          "evalue": "'DataFrame' object has no attribute 'map'",
          "output_type": "error",
          "traceback": [
            "\u001b[0;31m---------------------------------------------------------------------------\u001b[0m",
            "\u001b[0;31mAttributeError\u001b[0m                            Traceback (most recent call last)",
            "Cell \u001b[0;32mIn [9], line 5\u001b[0m\n\u001b[1;32m      2\u001b[0m spark\u001b[39m.\u001b[39msql(\u001b[39m\"\u001b[39m\u001b[39mselect * from data limit 3\u001b[39m\u001b[39m\"\u001b[39m)\u001b[39m.\u001b[39mshow()\n\u001b[1;32m      4\u001b[0m results \u001b[39m=\u001b[39m spark\u001b[39m.\u001b[39msql(\u001b[39m\"\u001b[39m\u001b[39mselect * from data\u001b[39m\u001b[39m\"\u001b[39m)\n\u001b[0;32m----> 5\u001b[0m results\u001b[39m.\u001b[39;49mmap(\u001b[39mlambda\u001b[39;00m x: x\u001b[39m.\u001b[39mproduct_id)\u001b[39m.\u001b[39mshow()\n",
            "File \u001b[0;32m/opt/homebrew/lib/python3.10/site-packages/pyspark/sql/dataframe.py:1988\u001b[0m, in \u001b[0;36mDataFrame.__getattr__\u001b[0;34m(self, name)\u001b[0m\n\u001b[1;32m   1978\u001b[0m \u001b[39m\"\"\"Returns the :class:`Column` denoted by ``name``.\u001b[39;00m\n\u001b[1;32m   1979\u001b[0m \n\u001b[1;32m   1980\u001b[0m \u001b[39m.. versionadded:: 1.3.0\u001b[39;00m\n\u001b[0;32m   (...)\u001b[0m\n\u001b[1;32m   1985\u001b[0m \u001b[39m[Row(age=2), Row(age=5)]\u001b[39;00m\n\u001b[1;32m   1986\u001b[0m \u001b[39m\"\"\"\u001b[39;00m\n\u001b[1;32m   1987\u001b[0m \u001b[39mif\u001b[39;00m name \u001b[39mnot\u001b[39;00m \u001b[39min\u001b[39;00m \u001b[39mself\u001b[39m\u001b[39m.\u001b[39mcolumns:\n\u001b[0;32m-> 1988\u001b[0m     \u001b[39mraise\u001b[39;00m \u001b[39mAttributeError\u001b[39;00m(\n\u001b[1;32m   1989\u001b[0m         \u001b[39m\"\u001b[39m\u001b[39m'\u001b[39m\u001b[39m%s\u001b[39;00m\u001b[39m'\u001b[39m\u001b[39m object has no attribute \u001b[39m\u001b[39m'\u001b[39m\u001b[39m%s\u001b[39;00m\u001b[39m'\u001b[39m\u001b[39m\"\u001b[39m \u001b[39m%\u001b[39m (\u001b[39mself\u001b[39m\u001b[39m.\u001b[39m\u001b[39m__class__\u001b[39m\u001b[39m.\u001b[39m\u001b[39m__name__\u001b[39m, name)\n\u001b[1;32m   1990\u001b[0m     )\n\u001b[1;32m   1991\u001b[0m jc \u001b[39m=\u001b[39m \u001b[39mself\u001b[39m\u001b[39m.\u001b[39m_jdf\u001b[39m.\u001b[39mapply(name)\n\u001b[1;32m   1992\u001b[0m \u001b[39mreturn\u001b[39;00m Column(jc)\n",
            "\u001b[0;31mAttributeError\u001b[0m: 'DataFrame' object has no attribute 'map'"
          ]
        }
      ],
      "source": [
        "df.createOrReplaceTempView(\"data\")\n",
        "spark.sql(\"select * from data limit 3\").show()\n",
        "\n",
        "results = spark.sql(\"select * from data\")\n",
        "results.map(lambda x: x.product_id).show()\n",
        "\n"
      ]
    },
    {
      "cell_type": "code",
      "execution_count": 17,
      "metadata": {
        "colab": {
          "base_uri": "https://localhost:8080/"
        },
        "id": "mxxhFwFpV3oM",
        "outputId": "98ae7e09-97ed-4195-ee67-70d89e0d330e"
      },
      "outputs": [
        {
          "data": {
            "text/plain": [
              "Row(product_id='4958')"
            ]
          },
          "execution_count": 17,
          "metadata": {},
          "output_type": "execute_result"
        }
      ],
      "source": [
        "df.select(['product_id']).filter(\"event_type='cart'\").first()"
      ]
    },
    {
      "cell_type": "code",
      "execution_count": 18,
      "metadata": {
        "id": "HEXwkYwrV7-g"
      },
      "outputs": [],
      "source": [
        "sessions = df.select(['user_session']).filter(\"event_type='cart' AND product_id=4958\").distinct()"
      ]
    },
    {
      "cell_type": "code",
      "execution_count": 19,
      "metadata": {
        "id": "lLxbzWvhWFj4"
      },
      "outputs": [],
      "source": [
        "products = df.select(['product_id']).filter(\"event_type='cart' AND product_id<>4958\").filter( df[\"user_session\"].isin(sessions[\"user_session\"]) )"
      ]
    },
    {
      "cell_type": "code",
      "execution_count": 20,
      "metadata": {
        "colab": {
          "base_uri": "https://localhost:8080/"
        },
        "id": "1m7XTmfuWg3O",
        "outputId": "1c2d15ec-31ea-488a-f674-de9cb9147f53"
      },
      "outputs": [
        {
          "name": "stderr",
          "output_type": "stream",
          "text": [
            "                                                                                \r"
          ]
        },
        {
          "data": {
            "text/plain": [
              "5759760"
            ]
          },
          "execution_count": 20,
          "metadata": {},
          "output_type": "execute_result"
        }
      ],
      "source": [
        "products.count()"
      ]
    },
    {
      "cell_type": "code",
      "execution_count": 21,
      "metadata": {
        "id": "sSK6cjP3WrkZ"
      },
      "outputs": [],
      "source": [
        "products = products.distinct()"
      ]
    },
    {
      "cell_type": "code",
      "execution_count": 22,
      "metadata": {
        "colab": {
          "base_uri": "https://localhost:8080/"
        },
        "id": "m8FfN16vXp3N",
        "outputId": "ab17e46f-90ef-4a0e-97f4-53a96d4bf019"
      },
      "outputs": [
        {
          "name": "stderr",
          "output_type": "stream",
          "text": [
            "                                                                                \r"
          ]
        },
        {
          "data": {
            "text/plain": [
              "46156"
            ]
          },
          "execution_count": 22,
          "metadata": {},
          "output_type": "execute_result"
        }
      ],
      "source": [
        "products.count()"
      ]
    },
    {
      "cell_type": "code",
      "execution_count": 23,
      "metadata": {
        "id": "Zd3j4JIJX4kp"
      },
      "outputs": [
        {
          "name": "stderr",
          "output_type": "stream",
          "text": [
            "                                                                                \r"
          ]
        }
      ],
      "source": [
        "products.write.mode(\"overwrite\").csv('resultado')"
      ]
    },
    {
      "cell_type": "code",
      "execution_count": 24,
      "metadata": {},
      "outputs": [
        {
          "name": "stdout",
          "output_type": "stream",
          "text": [
            "_SUCCESS\n",
            "part-00000-a74920b3-e4e3-46cd-ba78-3db7a9043934-c000.csv\n",
            "part-00001-a74920b3-e4e3-46cd-ba78-3db7a9043934-c000.csv\n",
            "part-00002-a74920b3-e4e3-46cd-ba78-3db7a9043934-c000.csv\n",
            "part-00003-a74920b3-e4e3-46cd-ba78-3db7a9043934-c000.csv\n"
          ]
        }
      ],
      "source": [
        "!cd resultado && ls"
      ]
    },
    {
      "cell_type": "markdown",
      "metadata": {},
      "source": [
        "streaming"
      ]
    },
    {
      "cell_type": "code",
      "execution_count": null,
      "metadata": {},
      "outputs": [],
      "source": []
    },
    {
      "cell_type": "markdown",
      "metadata": {},
      "source": [
        "rdd"
      ]
    },
    {
      "cell_type": "code",
      "execution_count": 25,
      "metadata": {},
      "outputs": [
        {
          "name": "stderr",
          "output_type": "stream",
          "text": [
            "[Stage 26:============================================>           (15 + 4) / 19]\r"
          ]
        },
        {
          "name": "stdout",
          "output_type": "stream",
          "text": [
            "+------------+\n",
            "|       brand|\n",
            "+------------+\n",
            "|     beautix|\n",
            "|     farmona|\n",
            "|  dr.gloderm|\n",
            "|   profhenna|\n",
            "|     philips|\n",
            "|invisibobble|\n",
            "|       riche|\n",
            "|        oniq|\n",
            "|    lebelage|\n",
            "|     vilenta|\n",
            "|       fancy|\n",
            "|      jaguar|\n",
            "|      tertio|\n",
            "|    siberina|\n",
            "|   koreatida|\n",
            "|         jas|\n",
            "|rocknailstar|\n",
            "|   depilflax|\n",
            "|protokeratin|\n",
            "|       essie|\n",
            "+------------+\n",
            "only showing top 20 rows\n",
            "\n"
          ]
        },
        {
          "name": "stderr",
          "output_type": "stream",
          "text": [
            "                                                                                \r"
          ]
        }
      ],
      "source": [
        "df.select(\"brand\").distinct().show()"
      ]
    },
    {
      "cell_type": "code",
      "execution_count": 26,
      "metadata": {},
      "outputs": [],
      "source": [
        "def myFunc(s):\n",
        "  if s[\"brand\"]==\"riche\" and s[\"event_type\"]==\"cart\":\n",
        "    return [ ( s[\"product_id\"], 1) ]\n",
        "  return []"
      ]
    },
    {
      "cell_type": "code",
      "execution_count": 27,
      "metadata": {},
      "outputs": [],
      "source": [
        "lines=df.rdd.flatMap(myFunc).reduceByKey(lambda a, b: a + b)\n"
      ]
    },
    {
      "cell_type": "code",
      "execution_count": 28,
      "metadata": {},
      "outputs": [
        {
          "name": "stderr",
          "output_type": "stream",
          "text": [
            "[Stage 29:======================================>                 (13 + 6) / 19]\r"
          ]
        },
        {
          "name": "stdout",
          "output_type": "stream",
          "text": [
            "('5842214', 13)\n",
            "('5842215', 10)\n",
            "('5842242', 7)\n",
            "('5842212', 3)\n",
            "('5842205', 12)\n",
            "('5842220', 6)\n",
            "('5922103', 1)\n",
            "('5842213', 12)\n",
            "('5842241', 6)\n",
            "('5842219', 9)\n",
            "('5842231', 16)\n",
            "('5922106', 3)\n",
            "('5842202', 17)\n",
            "('5842203', 13)\n",
            "('5922109', 1)\n",
            "('5842233', 4)\n",
            "('5922115', 1)\n",
            "('5922123', 1)\n",
            "('5922121', 1)\n",
            "('5842232', 20)\n",
            "('5842268', 131)\n",
            "('5922107', 5)\n",
            "('5922119', 2)\n",
            "('5922110', 3)\n",
            "('5922122', 1)\n",
            "('5842235', 12)\n",
            "('5842258', 20)\n",
            "('5844573', 3)\n",
            "('5922097', 1)\n",
            "('5842223', 12)\n",
            "('5846097', 5)\n",
            "('5846098', 21)\n",
            "('5922118', 9)\n",
            "('5842224', 9)\n",
            "('5922124', 1)\n",
            "('5922112', 2)\n",
            "('5922104', 2)\n",
            "('5842221', 9)\n",
            "('5842204', 17)\n",
            "('5842217', 11)\n",
            "('5842234', 5)\n",
            "('5842206', 2)\n",
            "('5844571', 20)\n",
            "('5842240', 12)\n",
            "('5922117', 6)\n",
            "('5842222', 25)\n",
            "('5842225', 6)\n",
            "('5842226', 6)\n",
            "('5842227', 11)\n",
            "('5922114', 1)\n",
            "('5922108', 1)\n"
          ]
        },
        {
          "name": "stderr",
          "output_type": "stream",
          "text": [
            "                                                                                \r"
          ]
        }
      ],
      "source": [
        "for element in lines.collect(): \n",
        "  print(element)"
      ]
    },
    {
      "cell_type": "code",
      "execution_count": 29,
      "metadata": {},
      "outputs": [
        {
          "name": "stdout",
          "output_type": "stream",
          "text": [
            "[('5842214', 13), ('5842215', 10), ('5842242', 7), ('5842212', 3), ('5842205', 12), ('5842220', 6), ('5922103', 1), ('5842213', 12), ('5842241', 6), ('5842219', 9), ('5842231', 16), ('5922106', 3), ('5842202', 17), ('5842203', 13), ('5922109', 1), ('5842233', 4), ('5922115', 1), ('5922123', 1), ('5922121', 1), ('5842232', 20)]\n"
          ]
        }
      ],
      "source": [
        "print( lines.take(20) )"
      ]
    },
    {
      "cell_type": "code",
      "execution_count": 30,
      "metadata": {},
      "outputs": [
        {
          "name": "stderr",
          "output_type": "stream",
          "text": [
            "                                                                                \r"
          ]
        }
      ],
      "source": [
        "lines.saveAsTextFile(\"resultado2\")"
      ]
    },
    {
      "cell_type": "code",
      "execution_count": 33,
      "metadata": {},
      "outputs": [
        {
          "name": "stdout",
          "output_type": "stream",
          "text": [
            "Number of Partitions: 10\n",
            "Action: First element: 1\n",
            "[1, 2, 3, 4, 5]\n",
            "True\n"
          ]
        }
      ],
      "source": [
        "rdd=spark.sparkContext.parallelize([1,2,3,4,5])\n",
        "\n",
        "rddCollect = rdd.collect()\n",
        "print(\"Number of Partitions: \"+str(rdd.getNumPartitions()))\n",
        "print(\"Action: First element: \"+str(rdd.first()))\n",
        "print(rddCollect)\n",
        "\n",
        "emptyRDD = spark.sparkContext.emptyRDD()\n",
        "emptyRDD2 = rdd=spark.sparkContext.parallelize([])\n",
        "\n",
        "print(\"\"+str(emptyRDD2.isEmpty()))"
      ]
    },
    {
      "cell_type": "code",
      "execution_count": 34,
      "metadata": {},
      "outputs": [
        {
          "name": "stdout",
          "output_type": "stream",
          "text": [
            "[('James', 'Smith', 'USA', 'California'), ('Michael', 'Rose', 'USA', 'New York'), ('Robert', 'Williams', 'USA', 'California'), ('Maria', 'Jones', 'USA', 'Florida')]\n"
          ]
        }
      ],
      "source": [
        "states = {\"NY\":\"New York\", \"CA\":\"California\", \"FL\":\"Florida\"}\n",
        "broadcastStates = spark.sparkContext.broadcast(states)\n",
        "\n",
        "data = [(\"James\",\"Smith\",\"USA\",\"CA\"),\n",
        "    (\"Michael\",\"Rose\",\"USA\",\"NY\"),\n",
        "    (\"Robert\",\"Williams\",\"USA\",\"CA\"),\n",
        "    (\"Maria\",\"Jones\",\"USA\",\"FL\")\n",
        "  ]\n",
        "\n",
        "rdd = spark.sparkContext.parallelize(data)\n",
        "\n",
        "def state_convert(code):\n",
        "    return broadcastStates.value[code]\n",
        "\n",
        "result = rdd.map(lambda x: (x[0],x[1],x[2],state_convert(x[3]))).collect()\n",
        "print(result)"
      ]
    },
    {
      "cell_type": "code",
      "execution_count": 35,
      "metadata": {},
      "outputs": [
        {
          "name": "stdout",
          "output_type": "stream",
          "text": [
            "('Alice’s', 1)\n",
            "('in', 2)\n",
            "('Gutenberg’s', 3)\n",
            "('Adventures', 2)\n",
            "('Wonderland', 2)\n",
            "('Project', 3)\n"
          ]
        }
      ],
      "source": [
        "data = [('Project', 1),\n",
        "('Gutenberg’s', 1),\n",
        "('Alice’s', 1),\n",
        "('Adventures', 1),\n",
        "('in', 1),\n",
        "('Wonderland', 1),\n",
        "('Project', 1),\n",
        "('Gutenberg’s', 1),\n",
        "('Adventures', 1),\n",
        "('in', 1),\n",
        "('Wonderland', 1),\n",
        "('Project', 1),\n",
        "('Gutenberg’s', 1)]\n",
        "\n",
        "rdd=spark.sparkContext.parallelize(data)\n",
        "\n",
        "rdd2=rdd.reduceByKey(lambda a,b: a+b)\n",
        "for element in rdd2.collect():\n",
        "    print(element)"
      ]
    },
    {
      "cell_type": "markdown",
      "metadata": {},
      "source": [
        "Manipular DataFrame usando SQL"
      ]
    }
  ],
  "metadata": {
    "colab": {
      "provenance": []
    },
    "kernelspec": {
      "display_name": "Python 3.10.8 64-bit",
      "language": "python",
      "name": "python3"
    },
    "language_info": {
      "codemirror_mode": {
        "name": "ipython",
        "version": 3
      },
      "file_extension": ".py",
      "mimetype": "text/x-python",
      "name": "python",
      "nbconvert_exporter": "python",
      "pygments_lexer": "ipython3",
      "version": "3.10.8"
    },
    "vscode": {
      "interpreter": {
        "hash": "b0fa6594d8f4cbf19f97940f81e996739fb7646882a419484c72d19e05852a7e"
      }
    }
  },
  "nbformat": 4,
  "nbformat_minor": 0
}
